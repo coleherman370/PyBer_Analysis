{
 "cells": [
  {
   "cell_type": "code",
   "execution_count": null,
   "metadata": {},
   "outputs": [],
   "source": []
  }
 ],
 "metadata": {
  "interpreter": {
   "hash": "585b48490ef68f33e05f5df946fa62ffca0e4321a15028cb4d280af26e22ef03"
  },
  "kernelspec": {
   "display_name": "Python 3.7.10 64-bit ('PythonData': conda)",
   "name": "python3"
  },
  "language_info": {
   "name": "python",
   "version": "3.7.10"
  },
  "orig_nbformat": 4
 },
 "nbformat": 4,
 "nbformat_minor": 2
}
